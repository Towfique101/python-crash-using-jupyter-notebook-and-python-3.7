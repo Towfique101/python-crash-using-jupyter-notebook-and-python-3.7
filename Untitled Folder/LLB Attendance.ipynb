{
 "cells": [
  {
   "cell_type": "code",
   "execution_count": 2,
   "metadata": {},
   "outputs": [
    {
     "name": "stdout",
     "output_type": "stream",
     "text": [
      "                  Timestamp       Date            Email address  Student ID  \\\n",
      "0   2021-03-07 15:20:11.596 2021-03-07      sr2266145@gmail.com    21013627   \n",
      "1   2021-03-18 18:07:59.379 2021-03-18  farinbushra60@gmail.com   180260753   \n",
      "2   2021-03-28 15:00:16.241 2021-03-28  farinbushra60@gnail.com   180260753   \n",
      "3   2021-04-03 13:10:05.314 2021-04-03  farinbushra60@gmail.com   180260753   \n",
      "4   2021-04-04 14:55:39.226 2021-04-04  farinbushra60@gmail.com   180260753   \n",
      "..                      ...        ...                      ...         ...   \n",
      "442 2021-04-11 15:00:05.217 2021-04-11  shanjidaoishe@gmail.com   210103665   \n",
      "443 2021-04-24 14:39:51.579 2021-04-24  shanjidaoishe@gmail.com   210103665   \n",
      "444 2021-04-25 14:48:24.610 2021-04-25  shanjidaoishe@gmail.com   210103665   \n",
      "445 2021-03-14 15:01:53.344 2021-03-14  hnpprodhan404@gmail.com   210103666   \n",
      "446 2021-04-11 15:01:09.413 2021-04-11  hnpprodhan404@gmail.com   210103666   \n",
      "\n",
      "                     Name  \n",
      "0           Sakib Raihan   \n",
      "1           Farin Bushra   \n",
      "2           Farin Bushra   \n",
      "3           Farin Bushra   \n",
      "4            Farin Bushra  \n",
      "..                    ...  \n",
      "442  Shanjida Hasan Ayshi  \n",
      "443  Shanjida Hasan Ayshi  \n",
      "444  Shanjida Hasan Ayshi  \n",
      "445      Hashem Prodhan    \n",
      "446       Hashem Prodhan   \n",
      "\n",
      "[447 rows x 5 columns]\n"
     ]
    }
   ],
   "source": [
    "import pandas as pd\n",
    "\n",
    "df = pd.read_excel ('Attendance.xlsx')\n",
    "print (df)"
   ]
  },
  {
   "cell_type": "code",
   "execution_count": 14,
   "metadata": {},
   "outputs": [
    {
     "name": "stdout",
     "output_type": "stream",
     "text": [
      "                  Timestamp       Date            Email address  Student ID  \\\n",
      "0   2021-03-07 15:20:11.596 2021-03-07      sr2266145@gmail.com    21013627   \n",
      "1   2021-03-18 18:07:59.379 2021-03-18  farinbushra60@gmail.com   180260753   \n",
      "2   2021-03-28 15:00:16.241 2021-03-28  farinbushra60@gnail.com   180260753   \n",
      "3   2021-04-03 13:10:05.314 2021-04-03  farinbushra60@gmail.com   180260753   \n",
      "4   2021-04-04 14:55:39.226 2021-04-04  farinbushra60@gmail.com   180260753   \n",
      "..                      ...        ...                      ...         ...   \n",
      "442 2021-04-11 15:00:05.217 2021-04-11  shanjidaoishe@gmail.com   210103665   \n",
      "443 2021-04-24 14:39:51.579 2021-04-24  shanjidaoishe@gmail.com   210103665   \n",
      "444 2021-04-25 14:48:24.610 2021-04-25  shanjidaoishe@gmail.com   210103665   \n",
      "445 2021-03-14 15:01:53.344 2021-03-14  hnpprodhan404@gmail.com   210103666   \n",
      "446 2021-04-11 15:01:09.413 2021-04-11  hnpprodhan404@gmail.com   210103666   \n",
      "\n",
      "                     Name  \n",
      "0           Sakib Raihan   \n",
      "1           Farin Bushra   \n",
      "2           Farin Bushra   \n",
      "3           Farin Bushra   \n",
      "4            Farin Bushra  \n",
      "..                    ...  \n",
      "442  Shanjida Hasan Ayshi  \n",
      "443  Shanjida Hasan Ayshi  \n",
      "444  Shanjida Hasan Ayshi  \n",
      "445      Hashem Prodhan    \n",
      "446       Hashem Prodhan   \n",
      "\n",
      "[447 rows x 5 columns]\n"
     ]
    }
   ],
   "source": [
    "print(df)\n",
    "df = df.drop(['Timestamp'],axis = 1)"
   ]
  },
  {
   "cell_type": "code",
   "execution_count": 15,
   "metadata": {
    "scrolled": true
   },
   "outputs": [
    {
     "name": "stdout",
     "output_type": "stream",
     "text": [
      "          Date            Email address  Student ID                  Name\n",
      "0   2021-03-07      sr2266145@gmail.com    21013627         Sakib Raihan \n",
      "1   2021-03-18  farinbushra60@gmail.com   180260753         Farin Bushra \n",
      "2   2021-03-28  farinbushra60@gnail.com   180260753         Farin Bushra \n",
      "3   2021-04-03  farinbushra60@gmail.com   180260753         Farin Bushra \n",
      "4   2021-04-04  farinbushra60@gmail.com   180260753          Farin Bushra\n",
      "..         ...                      ...         ...                   ...\n",
      "442 2021-04-11  shanjidaoishe@gmail.com   210103665  Shanjida Hasan Ayshi\n",
      "443 2021-04-24  shanjidaoishe@gmail.com   210103665  Shanjida Hasan Ayshi\n",
      "444 2021-04-25  shanjidaoishe@gmail.com   210103665  Shanjida Hasan Ayshi\n",
      "445 2021-03-14  hnpprodhan404@gmail.com   210103666      Hashem Prodhan  \n",
      "446 2021-04-11  hnpprodhan404@gmail.com   210103666       Hashem Prodhan \n",
      "\n",
      "[447 rows x 4 columns]\n"
     ]
    }
   ],
   "source": [
    "print(df)"
   ]
  },
  {
   "cell_type": "code",
   "execution_count": 18,
   "metadata": {
    "scrolled": true
   },
   "outputs": [
    {
     "name": "stdout",
     "output_type": "stream",
     "text": [
      "0      False\n",
      "1      False\n",
      "2      False\n",
      "3      False\n",
      "4      False\n",
      "       ...  \n",
      "442    False\n",
      "443    False\n",
      "444    False\n",
      "445    False\n",
      "446    False\n",
      "Length: 447, dtype: bool\n"
     ]
    }
   ],
   "source": [
    "df1 = df.duplicated()\n",
    "print(df1)\n",
    "for x in range(0,445):\n",
    "    if(df1.iloc[1] == 'True'):\n",
    "        print(x)"
   ]
  },
  {
   "cell_type": "code",
   "execution_count": 21,
   "metadata": {},
   "outputs": [
    {
     "name": "stdout",
     "output_type": "stream",
     "text": [
      "          Date            Email address  Student ID                  Name\n",
      "0   2021-03-07      sr2266145@gmail.com    21013627         Sakib Raihan \n",
      "1   2021-03-18  farinbushra60@gmail.com   180260753         Farin Bushra \n",
      "2   2021-03-28  farinbushra60@gnail.com   180260753         Farin Bushra \n",
      "3   2021-04-03  farinbushra60@gmail.com   180260753         Farin Bushra \n",
      "4   2021-04-04  farinbushra60@gmail.com   180260753          Farin Bushra\n",
      "..         ...                      ...         ...                   ...\n",
      "442 2021-04-11  shanjidaoishe@gmail.com   210103665  Shanjida Hasan Ayshi\n",
      "443 2021-04-24  shanjidaoishe@gmail.com   210103665  Shanjida Hasan Ayshi\n",
      "444 2021-04-25  shanjidaoishe@gmail.com   210103665  Shanjida Hasan Ayshi\n",
      "445 2021-03-14  hnpprodhan404@gmail.com   210103666      Hashem Prodhan  \n",
      "446 2021-04-11  hnpprodhan404@gmail.com   210103666       Hashem Prodhan \n",
      "\n",
      "[445 rows x 4 columns]\n"
     ]
    }
   ],
   "source": [
    "mask = df.Date.duplicated(keep=False)\n",
    "print (df[mask])"
   ]
  }
 ],
 "metadata": {
  "kernelspec": {
   "display_name": "Python 3",
   "language": "python",
   "name": "python3"
  },
  "language_info": {
   "codemirror_mode": {
    "name": "ipython",
    "version": 3
   },
   "file_extension": ".py",
   "mimetype": "text/x-python",
   "name": "python",
   "nbconvert_exporter": "python",
   "pygments_lexer": "ipython3",
   "version": "3.8.3"
  }
 },
 "nbformat": 4,
 "nbformat_minor": 4
}
