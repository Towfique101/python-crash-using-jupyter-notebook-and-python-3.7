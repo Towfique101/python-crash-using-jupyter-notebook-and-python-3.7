{
 "cells": [
  {
   "cell_type": "markdown",
   "metadata": {},
   "source": [
    "# Variables and Simple Data Types\n",
    "Chapter 2"
   ]
  },
  {
   "cell_type": "markdown",
   "metadata": {},
   "source": [
    "# String Learning"
   ]
  },
  {
   "cell_type": "code",
   "execution_count": 6,
   "metadata": {},
   "outputs": [
    {
     "name": "stdout",
     "output_type": "stream",
     "text": [
      "ada lovelace\n",
      "Hello, Ada Lovelace\n",
      "Hello, Ada Lovelace my name is khan\n"
     ]
    }
   ],
   "source": [
    "\n",
    "\n",
    "message = \"Hello python, and then python said, 'how are yoo?'\"\n",
    "\n",
    "# print (\" I am Fione\" + message)\n",
    "\n",
    "name = \"ada lovelace\"\n",
    " \n",
    "#print(name.title())\n",
    "\n",
    "#print(name.upper())\n",
    "\n",
    "#print(name.lower())\n",
    "\n",
    "first_name = \"ada\"\n",
    "last_name = \"lovelace\"\n",
    "\n",
    "full_name = f\"{first_name} {last_name}\"\n",
    "\n",
    "print(full_name)\n",
    "\n",
    "#helpful for concatenating with variables in strings\n",
    "\n",
    "print(f\"Hello, {first_name} {last_name}\".title())\n",
    "\n",
    "message = f\"Hello, {first_name} {last_name}\".title()\n",
    "\n",
    "print (message + \" my name is khan\") \n"
   ]
  },
  {
   "cell_type": "code",
   "execution_count": 5,
   "metadata": {},
   "outputs": [
    {
     "name": "stdout",
     "output_type": "stream",
     "text": [
      "My \n",
      "name is \t Shakil\n"
     ]
    }
   ],
   "source": [
    "favorite_language = 0\n",
    "message = \"My \\nname is \\t Shakil\"\n",
    "print(message)\n"
   ]
  },
  {
   "cell_type": "markdown",
   "metadata": {},
   "source": [
    "### Stripping white space ( this is not working as supposed)\n"
   ]
  },
  {
   "cell_type": "code",
   "execution_count": 28,
   "metadata": {},
   "outputs": [
    {
     "name": "stdout",
     "output_type": "stream",
     "text": [
      "  Python  is     Something      \n",
      "  Python  is     Something      \n"
     ]
    }
   ],
   "source": [
    "favorite_language = '  Python  is     Something      ' \n",
    "print (favorite_language)\n",
    "fav_lan = favorite_language.strip() + ' This is something'\n",
    "# the whitespaces are removed temporarily, so be careful to insert the values to a new variable\n",
    "fav_lan = favorite_language.strip(\"T\")\n",
    "#favorite_language = favorite_language.strip(' ') + ' This is something'\n",
    "#favorite_language\n",
    "print(fav_lan)\n",
    "#some more functions are there namely lstrip() and rstrip() that do the stripping left and right relatively"
   ]
  },
  {
   "cell_type": "markdown",
   "metadata": {},
   "source": [
    "#### Practice\n"
   ]
  },
  {
   "cell_type": "code",
   "execution_count": 37,
   "metadata": {},
   "outputs": [
    {
     "name": "stdout",
     "output_type": "stream",
     "text": [
      "Hello Shakil, would you like to learn some Python today?\n",
      "towfique hasan TOWFIQUE HASAN Towfique Hasan\n",
      "Albert Einstein once said,'A person who never made a mistake never tried anything new'.\n"
     ]
    }
   ],
   "source": [
    "message = \"Hello Shakil, would you like to learn some Python today?\"\n",
    "print (message)\n",
    "Name = \"Towfique Hasan\"\n",
    "print(Name.lower() +' '+ Name.upper()+' '+Name.title())\n",
    "\n",
    "Quoted_by = \"Albert Einstein\"\n",
    "Quote = \"A person who never made a mistake never tried anything new\"\n",
    "print (Quoted_by +\" once said,\" +\"'\" +Quote+\"'\"+'.')"
   ]
  },
  {
   "cell_type": "markdown",
   "metadata": {},
   "source": [
    "# Numbers"
   ]
  },
  {
   "cell_type": "markdown",
   "metadata": {},
   "source": [
    "## Integer"
   ]
  },
  {
   "cell_type": "code",
   "execution_count": 40,
   "metadata": {},
   "outputs": [
    {
     "data": {
      "text/plain": [
       "9"
      ]
     },
     "execution_count": 40,
     "metadata": {},
     "output_type": "execute_result"
    }
   ],
   "source": [
    "#putting two times multiplication brings the output of square actually\n",
    "3**2"
   ]
  },
  {
   "cell_type": "code",
   "execution_count": 3,
   "metadata": {},
   "outputs": [
    {
     "data": {
      "text/plain": [
       "27"
      ]
     },
     "execution_count": 3,
     "metadata": {},
     "output_type": "execute_result"
    }
   ],
   "source": [
    "# double asterisk works as a to the power function\n",
    "3**3"
   ]
  },
  {
   "cell_type": "code",
   "execution_count": 4,
   "metadata": {},
   "outputs": [
    {
     "data": {
      "text/plain": [
       "14"
      ]
     },
     "execution_count": 4,
     "metadata": {},
     "output_type": "execute_result"
    }
   ],
   "source": [
    "2+3*4"
   ]
  },
  {
   "cell_type": "code",
   "execution_count": 5,
   "metadata": {},
   "outputs": [
    {
     "data": {
      "text/plain": [
       "20"
      ]
     },
     "execution_count": 5,
     "metadata": {},
     "output_type": "execute_result"
    }
   ],
   "source": [
    "(2+3)*4\n"
   ]
  },
  {
   "cell_type": "markdown",
   "metadata": {},
   "source": [
    "## Float"
   ]
  },
  {
   "cell_type": "code",
   "execution_count": 6,
   "metadata": {},
   "outputs": [
    {
     "data": {
      "text/plain": [
       "0.2"
      ]
     },
     "execution_count": 6,
     "metadata": {},
     "output_type": "execute_result"
    }
   ],
   "source": [
    "0.1+0.1"
   ]
  },
  {
   "cell_type": "code",
   "execution_count": 7,
   "metadata": {},
   "outputs": [
    {
     "data": {
      "text/plain": [
       "0.02"
      ]
     },
     "execution_count": 7,
     "metadata": {},
     "output_type": "execute_result"
    }
   ],
   "source": [
    "2*.01"
   ]
  },
  {
   "cell_type": "code",
   "execution_count": 8,
   "metadata": {},
   "outputs": [
    {
     "data": {
      "text/plain": [
       "1.0069555500567189"
      ]
     },
     "execution_count": 8,
     "metadata": {},
     "output_type": "execute_result"
    }
   ],
   "source": [
    "2**.01"
   ]
  },
  {
   "cell_type": "code",
   "execution_count": 9,
   "metadata": {},
   "outputs": [
    {
     "data": {
      "text/plain": [
       "2.0"
      ]
     },
     "execution_count": 9,
     "metadata": {},
     "output_type": "execute_result"
    }
   ],
   "source": [
    "4/2"
   ]
  },
  {
   "cell_type": "code",
   "execution_count": 10,
   "metadata": {},
   "outputs": [
    {
     "data": {
      "text/plain": [
       "0.30000000000000004"
      ]
     },
     "execution_count": 10,
     "metadata": {},
     "output_type": "execute_result"
    }
   ],
   "source": [
    "0.2+0.1"
   ]
  },
  {
   "cell_type": "code",
   "execution_count": 11,
   "metadata": {},
   "outputs": [
    {
     "data": {
      "text/plain": [
       "9.0"
      ]
     },
     "execution_count": 11,
     "metadata": {},
     "output_type": "execute_result"
    }
   ],
   "source": [
    "3.00**2"
   ]
  },
  {
   "cell_type": "markdown",
   "metadata": {},
   "source": [
    "#### Underscore Numbers"
   ]
  },
  {
   "cell_type": "code",
   "execution_count": 15,
   "metadata": {},
   "outputs": [
    {
     "name": "stdout",
     "output_type": "stream",
     "text": [
      "6987000014000000000\n"
     ]
    }
   ],
   "source": [
    "universe_age = 14_000_000_000\n",
    "print(universe_age+1000000000000000*6987)"
   ]
  },
  {
   "cell_type": "markdown",
   "metadata": {},
   "source": [
    "## Multiple Assignment "
   ]
  },
  {
   "cell_type": "code",
   "execution_count": 31,
   "metadata": {},
   "outputs": [
    {
     "name": "stdout",
     "output_type": "stream",
     "text": [
      "x:0\n",
      "y:1\n",
      "z:2\n"
     ]
    }
   ],
   "source": [
    "x,y,z = 0,1,2\n",
    "print(\"x:\" + str(x)+'\\ny:'+str(y)+'\\nz:'+str(z))"
   ]
  },
  {
   "cell_type": "markdown",
   "metadata": {},
   "source": [
    "## Constants\n",
    "All letters of the variable should be marked as caps and you should not change it. Actually Python does not have any built in constant types and programmers use this rule to treat the constant types."
   ]
  },
  {
   "cell_type": "code",
   "execution_count": 32,
   "metadata": {},
   "outputs": [],
   "source": [
    "MAX_COLLECTIONS = 1000"
   ]
  },
  {
   "cell_type": "markdown",
   "metadata": {},
   "source": [
    "#### Exercise \n",
    "2.8 & 2.9"
   ]
  },
  {
   "cell_type": "code",
   "execution_count": 33,
   "metadata": {},
   "outputs": [
    {
     "name": "stdout",
     "output_type": "stream",
     "text": [
      "8\n",
      "8\n",
      "8.0\n",
      "8\n"
     ]
    }
   ],
   "source": [
    "print(5+3)\n",
    "print(9-1)\n",
    "print(16/2)\n",
    "print(4*2)"
   ]
  },
  {
   "cell_type": "code",
   "execution_count": 36,
   "metadata": {},
   "outputs": [
    {
     "name": "stdout",
     "output_type": "stream",
     "text": [
      "My fav number is 15\n"
     ]
    }
   ],
   "source": [
    "my_fav_num = 15\n",
    "print(\"My fav number is \" + str(my_fav_num))"
   ]
  },
  {
   "cell_type": "markdown",
   "metadata": {},
   "source": [
    "## Comments\n",
    "We use '#' to write comments in Python"
   ]
  },
  {
   "cell_type": "code",
   "execution_count": 37,
   "metadata": {},
   "outputs": [
    {
     "name": "stdout",
     "output_type": "stream",
     "text": [
      "Hello everyone\n"
     ]
    }
   ],
   "source": [
    "#Say Hello to everyone\n",
    "print(\"Hello everyone\")"
   ]
  },
  {
   "cell_type": "markdown",
   "metadata": {},
   "source": [
    "## Zen of Python"
   ]
  },
  {
   "cell_type": "code",
   "execution_count": 38,
   "metadata": {},
   "outputs": [
    {
     "name": "stdout",
     "output_type": "stream",
     "text": [
      "The Zen of Python, by Tim Peters\n",
      "\n",
      "Beautiful is better than ugly.\n",
      "Explicit is better than implicit.\n",
      "Simple is better than complex.\n",
      "Complex is better than complicated.\n",
      "Flat is better than nested.\n",
      "Sparse is better than dense.\n",
      "Readability counts.\n",
      "Special cases aren't special enough to break the rules.\n",
      "Although practicality beats purity.\n",
      "Errors should never pass silently.\n",
      "Unless explicitly silenced.\n",
      "In the face of ambiguity, refuse the temptation to guess.\n",
      "There should be one-- and preferably only one --obvious way to do it.\n",
      "Although that way may not be obvious at first unless you're Dutch.\n",
      "Now is better than never.\n",
      "Although never is often better than *right* now.\n",
      "If the implementation is hard to explain, it's a bad idea.\n",
      "If the implementation is easy to explain, it may be a good idea.\n",
      "Namespaces are one honking great idea -- let's do more of those!\n"
     ]
    }
   ],
   "source": [
    "import this"
   ]
  },
  {
   "cell_type": "markdown",
   "metadata": {},
   "source": [
    "# Lists\n",
    "Chapter 3"
   ]
  },
  {
   "cell_type": "code",
   "execution_count": 46,
   "metadata": {},
   "outputs": [
    {
     "name": "stdout",
     "output_type": "stream",
     "text": [
      "['trek', 'cannondale', 'redline', 'specialized']\n",
      "Cannondale\n",
      "['cannondale', 'redline', 'specialized']\n",
      "specialized\n"
     ]
    }
   ],
   "source": [
    "bicycles = ['trek','cannondale','redline','specialized']\n",
    "print(bicycles)\n",
    "\n",
    "#printing using the title.\n",
    "print(bicycles[1].title())\n",
    "\n",
    "#indexing is the same as C programming\n",
    "print(bicycles[1:])\n",
    "\n",
    "#indexing negative reads the list from last\n",
    "print(bicycles[-1])"
   ]
  },
  {
   "cell_type": "markdown",
   "metadata": {},
   "source": [
    "## Using Individual Values from a List"
   ]
  },
  {
   "cell_type": "code",
   "execution_count": 56,
   "metadata": {},
   "outputs": [
    {
     "name": "stdout",
     "output_type": "stream",
     "text": [
      "My first bicycle was a Trek\n"
     ]
    }
   ],
   "source": [
    "#we can use the formatting we learned at the first section of this code to use such variable conditions\n",
    "\n",
    "message = f\"My first bicycle was a {bicycles[0].title()}\"\n",
    "print (message)"
   ]
  },
  {
   "cell_type": "markdown",
   "metadata": {},
   "source": [
    "### Practice ones"
   ]
  },
  {
   "cell_type": "code",
   "execution_count": 62,
   "metadata": {},
   "outputs": [
    {
     "name": "stdout",
     "output_type": "stream",
     "text": [
      "Rashed\n",
      "Enamul\n",
      "Mohan\n",
      "Ashik\n",
      "Maddy\n"
     ]
    }
   ],
   "source": [
    "names = ['rashed','enamul','mohan','ashik','maddy']\n",
    "print(names[0].title())\n",
    "print(names[1].title())\n",
    "print(names[2].title())\n",
    "print(names[3].title())\n",
    "print(names[4].title())\n"
   ]
  },
  {
   "cell_type": "code",
   "execution_count": 66,
   "metadata": {},
   "outputs": [
    {
     "name": "stdout",
     "output_type": "stream",
     "text": [
      "Hello Rashed, How do you do?\n",
      "Hello Enamul, How do you do?\n",
      "Hello Mohan, How do you do?\n",
      "Hello Ashik, How do you do?\n",
      "Hello Maddy, How do you do?\n"
     ]
    }
   ],
   "source": [
    "message = f\"Hello {names[0].title()}, How do you do?\"\n",
    "print(message)\n",
    "message = f\"Hello {names[1].title()}, How do you do?\"\n",
    "print(message)\n",
    "message = f\"Hello {names[2].title()}, How do you do?\"\n",
    "print(message)\n",
    "message = f\"Hello {names[3].title()}, How do you do?\"\n",
    "print(message)\n",
    "message = f\"Hello {names[4].title()}, How do you do?\"\n",
    "print(message)"
   ]
  },
  {
   "cell_type": "markdown",
   "metadata": {},
   "source": [
    "## Changing, Adding and Removing Elements\n",
    "Modifying elements in the list"
   ]
  },
  {
   "cell_type": "code",
   "execution_count": 77,
   "metadata": {},
   "outputs": [
    {
     "name": "stdout",
     "output_type": "stream",
     "text": [
      "['honda', 'yamaha', 'suzuki', 'kawasaki']\n",
      "Modified motorcycles ['ducati', 'yamaha', 'suzuki', 'kawasaki']\n"
     ]
    }
   ],
   "source": [
    "motorcycles = ['honda','yamaha','suzuki','kawasaki']\n",
    "print(motorcycles)\n",
    "\n",
    "\n",
    "#now if we do the following the result will be different. It is more like appending\n",
    "motorcycles[0] = 'ducati'\n",
    "\n",
    "print(f\"Modified motorcycles {motorcycles}\")"
   ]
  },
  {
   "cell_type": "markdown",
   "metadata": {},
   "source": [
    "#### Adding Elements to a List"
   ]
  },
  {
   "cell_type": "code",
   "execution_count": 84,
   "metadata": {},
   "outputs": [
    {
     "name": "stdout",
     "output_type": "stream",
     "text": [
      "The previous values are\n",
      "['ducati', 'yamaha', 'suzuki', 'kawasaki', 'honda', 'honda']\n",
      "The new values are\n",
      "['ducati', 'yamaha', 'suzuki', 'kawasaki', 'honda', 'honda', 'honda']\n"
     ]
    }
   ],
   "source": [
    "print(\"The previous values are\\n\" + str(motorcycles))\n",
    "\n",
    "motorcycles.append('honda')\n",
    "\n",
    "print(\"The new values are\\n\" + str (motorcycles))"
   ]
  },
  {
   "cell_type": "code",
   "execution_count": 86,
   "metadata": {},
   "outputs": [
    {
     "data": {
      "text/plain": [
       "['ducati', 'honda', 'yamaha', 'kawasaki']"
      ]
     },
     "execution_count": 86,
     "metadata": {},
     "output_type": "execute_result"
    }
   ],
   "source": [
    "#another approach to add new items. We are starting with an empty list\n",
    "\n",
    "bikes =[]\n",
    "\n",
    "bikes.append('ducati')\n",
    "bikes.append('honda')\n",
    "bikes.append('yamaha')\n",
    "bikes.append('kawasaki')\n",
    "\n",
    "bikes"
   ]
  },
  {
   "cell_type": "markdown",
   "metadata": {},
   "source": [
    "#### Inserting Elements to a List"
   ]
  },
  {
   "cell_type": "code",
   "execution_count": 89,
   "metadata": {},
   "outputs": [
    {
     "data": {
      "text/plain": [
       "['aprilia', 'aprilia', 'ducati', 'honda', 'yamaha', 'kawasaki']"
      ]
     },
     "execution_count": 89,
     "metadata": {},
     "output_type": "execute_result"
    }
   ],
   "source": [
    "bikes.insert(0,'aprilia')\n",
    "bikes"
   ]
  },
  {
   "cell_type": "markdown",
   "metadata": {},
   "source": [
    "#### Removing Items from the List"
   ]
  },
  {
   "cell_type": "code",
   "execution_count": 94,
   "metadata": {},
   "outputs": [
    {
     "name": "stdout",
     "output_type": "stream",
     "text": [
      "['ducati', 'yamaha', 'suzuki', 'kawasaki']\n",
      "['yamaha', 'suzuki']\n"
     ]
    }
   ],
   "source": [
    "#be careful here as the del sits in the beginning which is not alike the other functions that we used previously\n",
    "\n",
    "print(motorcycles)\n",
    "del motorcycles[-1]\n",
    "del motorcycles [0]\n",
    "print(motorcycles)\n"
   ]
  },
  {
   "cell_type": "code",
   "execution_count": null,
   "metadata": {},
   "outputs": [],
   "source": []
  },
  {
   "cell_type": "code",
   "execution_count": null,
   "metadata": {},
   "outputs": [],
   "source": []
  },
  {
   "cell_type": "code",
   "execution_count": null,
   "metadata": {},
   "outputs": [],
   "source": []
  },
  {
   "cell_type": "code",
   "execution_count": null,
   "metadata": {},
   "outputs": [],
   "source": []
  }
 ],
 "metadata": {
  "kernelspec": {
   "display_name": "Python 3",
   "language": "python",
   "name": "python3"
  },
  "language_info": {
   "codemirror_mode": {
    "name": "ipython",
    "version": 3
   },
   "file_extension": ".py",
   "mimetype": "text/x-python",
   "name": "python",
   "nbconvert_exporter": "python",
   "pygments_lexer": "ipython3",
   "version": "3.7.9"
  }
 },
 "nbformat": 4,
 "nbformat_minor": 4
}
