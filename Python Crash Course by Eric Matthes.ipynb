{
 "cells": [
  {
   "cell_type": "markdown",
   "metadata": {},
   "source": [
    "# Chapter 2: Variables and Simple Data Types"
   ]
  },
  {
   "cell_type": "markdown",
   "metadata": {},
   "source": [
    "##  String Learning"
   ]
  },
  {
   "cell_type": "code",
   "execution_count": 6,
   "metadata": {},
   "outputs": [
    {
     "name": "stdout",
     "output_type": "stream",
     "text": [
      "ada lovelace\n",
      "Hello, Ada Lovelace\n",
      "Hello, Ada Lovelace my name is khan\n"
     ]
    }
   ],
   "source": [
    "\n",
    "\n",
    "message = \"Hello python, and then python said, 'how are yoo?'\"\n",
    "\n",
    "# print (\" I am Fione\" + message)\n",
    "\n",
    "name = \"ada lovelace\"\n",
    " \n",
    "#print(name.title())\n",
    "\n",
    "#print(name.upper())\n",
    "\n",
    "#print(name.lower())\n",
    "\n",
    "first_name = \"ada\"\n",
    "last_name = \"lovelace\"\n",
    "\n",
    "full_name = f\"{first_name} {last_name}\"\n",
    "\n",
    "print(full_name)\n",
    "\n",
    "#helpful for concatenating with variables in strings\n",
    "\n",
    "print(f\"Hello, {first_name} {last_name}\".title())\n",
    "\n",
    "message = f\"Hello, {first_name} {last_name}\".title()\n",
    "\n",
    "print (message + \" my name is khan\") \n"
   ]
  },
  {
   "cell_type": "code",
   "execution_count": 5,
   "metadata": {},
   "outputs": [
    {
     "name": "stdout",
     "output_type": "stream",
     "text": [
      "My \n",
      "name is \t Shakil\n"
     ]
    }
   ],
   "source": [
    "favorite_language = 0\n",
    "message = \"My \\nname is \\t Shakil\"\n",
    "print(message)\n"
   ]
  },
  {
   "cell_type": "markdown",
   "metadata": {},
   "source": [
    "### Stripping white space ( this is not working as supposed)\n"
   ]
  },
  {
   "cell_type": "code",
   "execution_count": 28,
   "metadata": {},
   "outputs": [
    {
     "name": "stdout",
     "output_type": "stream",
     "text": [
      "  Python  is     Something      \n",
      "  Python  is     Something      \n"
     ]
    }
   ],
   "source": [
    "favorite_language = '  Python  is     Something      ' \n",
    "print (favorite_language)\n",
    "fav_lan = favorite_language.strip() + ' This is something'\n",
    "# the whitespaces are removed temporarily, so be careful to insert the values to a new variable\n",
    "fav_lan = favorite_language.strip(\"T\")\n",
    "#favorite_language = favorite_language.strip(' ') + ' This is something'\n",
    "#favorite_language\n",
    "print(fav_lan)\n",
    "#some more functions are there namely lstrip() and rstrip() that do the stripping left and right relatively"
   ]
  },
  {
   "cell_type": "markdown",
   "metadata": {},
   "source": [
    "#### Practice\n"
   ]
  },
  {
   "cell_type": "code",
   "execution_count": 37,
   "metadata": {},
   "outputs": [
    {
     "name": "stdout",
     "output_type": "stream",
     "text": [
      "Hello Shakil, would you like to learn some Python today?\n",
      "towfique hasan TOWFIQUE HASAN Towfique Hasan\n",
      "Albert Einstein once said,'A person who never made a mistake never tried anything new'.\n"
     ]
    }
   ],
   "source": [
    "message = \"Hello Shakil, would you like to learn some Python today?\"\n",
    "print (message)\n",
    "Name = \"Towfique Hasan\"\n",
    "print(Name.lower() +' '+ Name.upper()+' '+Name.title())\n",
    "\n",
    "Quoted_by = \"Albert Einstein\"\n",
    "Quote = \"A person who never made a mistake never tried anything new\"\n",
    "print (Quoted_by +\" once said,\" +\"'\" +Quote+\"'\"+'.')"
   ]
  },
  {
   "cell_type": "markdown",
   "metadata": {},
   "source": [
    "## Numbers"
   ]
  },
  {
   "cell_type": "markdown",
   "metadata": {},
   "source": [
    "### Integer"
   ]
  },
  {
   "cell_type": "code",
   "execution_count": 40,
   "metadata": {},
   "outputs": [
    {
     "data": {
      "text/plain": [
       "9"
      ]
     },
     "execution_count": 40,
     "metadata": {},
     "output_type": "execute_result"
    }
   ],
   "source": [
    "#putting two times multiplication brings the output of square actually\n",
    "3**2"
   ]
  },
  {
   "cell_type": "code",
   "execution_count": 3,
   "metadata": {},
   "outputs": [
    {
     "data": {
      "text/plain": [
       "27"
      ]
     },
     "execution_count": 3,
     "metadata": {},
     "output_type": "execute_result"
    }
   ],
   "source": [
    "# double asterisk works as a to the power function\n",
    "3**3"
   ]
  },
  {
   "cell_type": "code",
   "execution_count": 4,
   "metadata": {},
   "outputs": [
    {
     "data": {
      "text/plain": [
       "14"
      ]
     },
     "execution_count": 4,
     "metadata": {},
     "output_type": "execute_result"
    }
   ],
   "source": [
    "2+3*4"
   ]
  },
  {
   "cell_type": "code",
   "execution_count": 5,
   "metadata": {},
   "outputs": [
    {
     "data": {
      "text/plain": [
       "20"
      ]
     },
     "execution_count": 5,
     "metadata": {},
     "output_type": "execute_result"
    }
   ],
   "source": [
    "(2+3)*4\n"
   ]
  },
  {
   "cell_type": "markdown",
   "metadata": {},
   "source": [
    "## Float"
   ]
  },
  {
   "cell_type": "code",
   "execution_count": 6,
   "metadata": {},
   "outputs": [
    {
     "data": {
      "text/plain": [
       "0.2"
      ]
     },
     "execution_count": 6,
     "metadata": {},
     "output_type": "execute_result"
    }
   ],
   "source": [
    "0.1+0.1"
   ]
  },
  {
   "cell_type": "code",
   "execution_count": 7,
   "metadata": {},
   "outputs": [
    {
     "data": {
      "text/plain": [
       "0.02"
      ]
     },
     "execution_count": 7,
     "metadata": {},
     "output_type": "execute_result"
    }
   ],
   "source": [
    "2*.01"
   ]
  },
  {
   "cell_type": "code",
   "execution_count": 8,
   "metadata": {},
   "outputs": [
    {
     "data": {
      "text/plain": [
       "1.0069555500567189"
      ]
     },
     "execution_count": 8,
     "metadata": {},
     "output_type": "execute_result"
    }
   ],
   "source": [
    "2**.01"
   ]
  },
  {
   "cell_type": "code",
   "execution_count": 9,
   "metadata": {},
   "outputs": [
    {
     "data": {
      "text/plain": [
       "2.0"
      ]
     },
     "execution_count": 9,
     "metadata": {},
     "output_type": "execute_result"
    }
   ],
   "source": [
    "4/2"
   ]
  },
  {
   "cell_type": "code",
   "execution_count": 10,
   "metadata": {},
   "outputs": [
    {
     "data": {
      "text/plain": [
       "0.30000000000000004"
      ]
     },
     "execution_count": 10,
     "metadata": {},
     "output_type": "execute_result"
    }
   ],
   "source": [
    "0.2+0.1"
   ]
  },
  {
   "cell_type": "code",
   "execution_count": 11,
   "metadata": {},
   "outputs": [
    {
     "data": {
      "text/plain": [
       "9.0"
      ]
     },
     "execution_count": 11,
     "metadata": {},
     "output_type": "execute_result"
    }
   ],
   "source": [
    "3.00**2"
   ]
  },
  {
   "cell_type": "markdown",
   "metadata": {},
   "source": [
    "#### Underscore Numbers"
   ]
  },
  {
   "cell_type": "code",
   "execution_count": 15,
   "metadata": {},
   "outputs": [
    {
     "name": "stdout",
     "output_type": "stream",
     "text": [
      "6987000014000000000\n"
     ]
    }
   ],
   "source": [
    "universe_age = 14_000_000_000\n",
    "print(universe_age+1000000000000000*6987)"
   ]
  },
  {
   "cell_type": "markdown",
   "metadata": {},
   "source": [
    "### Multiple Assignment "
   ]
  },
  {
   "cell_type": "code",
   "execution_count": 31,
   "metadata": {},
   "outputs": [
    {
     "name": "stdout",
     "output_type": "stream",
     "text": [
      "x:0\n",
      "y:1\n",
      "z:2\n"
     ]
    }
   ],
   "source": [
    "x,y,z = 0,1,2\n",
    "print(\"x:\" + str(x)+'\\ny:'+str(y)+'\\nz:'+str(z))"
   ]
  },
  {
   "cell_type": "markdown",
   "metadata": {},
   "source": [
    "### Constants\n",
    "All letters of the variable should be marked as caps and you should not change it. Actually Python does not have any built in constant types and programmers use this rule to treat the constant types."
   ]
  },
  {
   "cell_type": "code",
   "execution_count": 32,
   "metadata": {},
   "outputs": [],
   "source": [
    "MAX_COLLECTIONS = 1000"
   ]
  },
  {
   "cell_type": "markdown",
   "metadata": {},
   "source": [
    "#### Try it Yourseld Ones\n",
    "2.8 & 2.9"
   ]
  },
  {
   "cell_type": "code",
   "execution_count": 33,
   "metadata": {},
   "outputs": [
    {
     "name": "stdout",
     "output_type": "stream",
     "text": [
      "8\n",
      "8\n",
      "8.0\n",
      "8\n"
     ]
    }
   ],
   "source": [
    "print(5+3)\n",
    "print(9-1)\n",
    "print(16/2)\n",
    "print(4*2)"
   ]
  },
  {
   "cell_type": "code",
   "execution_count": 36,
   "metadata": {},
   "outputs": [
    {
     "name": "stdout",
     "output_type": "stream",
     "text": [
      "My fav number is 15\n"
     ]
    }
   ],
   "source": [
    "my_fav_num = 15\n",
    "print(\"My fav number is \" + str(my_fav_num))"
   ]
  },
  {
   "cell_type": "markdown",
   "metadata": {},
   "source": [
    "### Comments\n",
    "We use '#' to write comments in Python"
   ]
  },
  {
   "cell_type": "code",
   "execution_count": 37,
   "metadata": {},
   "outputs": [
    {
     "name": "stdout",
     "output_type": "stream",
     "text": [
      "Hello everyone\n"
     ]
    }
   ],
   "source": [
    "#Say Hello to everyone\n",
    "print(\"Hello everyone\")"
   ]
  },
  {
   "cell_type": "markdown",
   "metadata": {},
   "source": [
    "### Zen of Python"
   ]
  },
  {
   "cell_type": "code",
   "execution_count": 38,
   "metadata": {},
   "outputs": [
    {
     "name": "stdout",
     "output_type": "stream",
     "text": [
      "The Zen of Python, by Tim Peters\n",
      "\n",
      "Beautiful is better than ugly.\n",
      "Explicit is better than implicit.\n",
      "Simple is better than complex.\n",
      "Complex is better than complicated.\n",
      "Flat is better than nested.\n",
      "Sparse is better than dense.\n",
      "Readability counts.\n",
      "Special cases aren't special enough to break the rules.\n",
      "Although practicality beats purity.\n",
      "Errors should never pass silently.\n",
      "Unless explicitly silenced.\n",
      "In the face of ambiguity, refuse the temptation to guess.\n",
      "There should be one-- and preferably only one --obvious way to do it.\n",
      "Although that way may not be obvious at first unless you're Dutch.\n",
      "Now is better than never.\n",
      "Although never is often better than *right* now.\n",
      "If the implementation is hard to explain, it's a bad idea.\n",
      "If the implementation is easy to explain, it may be a good idea.\n",
      "Namespaces are one honking great idea -- let's do more of those!\n"
     ]
    }
   ],
   "source": [
    "import this"
   ]
  },
  {
   "cell_type": "markdown",
   "metadata": {},
   "source": [
    "# Chapter 3: Lists"
   ]
  },
  {
   "cell_type": "code",
   "execution_count": 46,
   "metadata": {},
   "outputs": [
    {
     "name": "stdout",
     "output_type": "stream",
     "text": [
      "['trek', 'cannondale', 'redline', 'specialized']\n",
      "Cannondale\n",
      "['cannondale', 'redline', 'specialized']\n",
      "specialized\n"
     ]
    }
   ],
   "source": [
    "bicycles = ['trek','cannondale','redline','specialized']\n",
    "print(bicycles)\n",
    "\n",
    "#printing using the title.\n",
    "print(bicycles[1].title())\n",
    "\n",
    "#indexing is the same as C programming\n",
    "print(bicycles[1:])\n",
    "\n",
    "#indexing negative reads the list from last\n",
    "print(bicycles[-1])"
   ]
  },
  {
   "cell_type": "markdown",
   "metadata": {},
   "source": [
    "## Using Individual Values from a List"
   ]
  },
  {
   "cell_type": "code",
   "execution_count": 56,
   "metadata": {},
   "outputs": [
    {
     "name": "stdout",
     "output_type": "stream",
     "text": [
      "My first bicycle was a Trek\n"
     ]
    }
   ],
   "source": [
    "#we can use the formatting we learned at the first section of this code to use such variable conditions\n",
    "\n",
    "message = f\"My first bicycle was a {bicycles[0].title()}\"\n",
    "print (message)"
   ]
  },
  {
   "cell_type": "markdown",
   "metadata": {},
   "source": [
    "### Try Yourself ones"
   ]
  },
  {
   "cell_type": "code",
   "execution_count": 62,
   "metadata": {},
   "outputs": [
    {
     "name": "stdout",
     "output_type": "stream",
     "text": [
      "Rashed\n",
      "Enamul\n",
      "Mohan\n",
      "Ashik\n",
      "Maddy\n"
     ]
    }
   ],
   "source": [
    "names = ['rashed','enamul','mohan','ashik','maddy']\n",
    "print(names[0].title())\n",
    "print(names[1].title())\n",
    "print(names[2].title())\n",
    "print(names[3].title())\n",
    "print(names[4].title())\n"
   ]
  },
  {
   "cell_type": "code",
   "execution_count": 66,
   "metadata": {},
   "outputs": [
    {
     "name": "stdout",
     "output_type": "stream",
     "text": [
      "Hello Rashed, How do you do?\n",
      "Hello Enamul, How do you do?\n",
      "Hello Mohan, How do you do?\n",
      "Hello Ashik, How do you do?\n",
      "Hello Maddy, How do you do?\n"
     ]
    }
   ],
   "source": [
    "message = f\"Hello {names[0].title()}, How do you do?\"\n",
    "print(message)\n",
    "message = f\"Hello {names[1].title()}, How do you do?\"\n",
    "print(message)\n",
    "message = f\"Hello {names[2].title()}, How do you do?\"\n",
    "print(message)\n",
    "message = f\"Hello {names[3].title()}, How do you do?\"\n",
    "print(message)\n",
    "message = f\"Hello {names[4].title()}, How do you do?\"\n",
    "print(message)"
   ]
  },
  {
   "cell_type": "markdown",
   "metadata": {},
   "source": [
    "## Changing, Adding and Removing Elements\n",
    "Modifying elements in the list"
   ]
  },
  {
   "cell_type": "code",
   "execution_count": 77,
   "metadata": {},
   "outputs": [
    {
     "name": "stdout",
     "output_type": "stream",
     "text": [
      "['honda', 'yamaha', 'suzuki', 'kawasaki']\n",
      "Modified motorcycles ['ducati', 'yamaha', 'suzuki', 'kawasaki']\n"
     ]
    }
   ],
   "source": [
    "motorcycles = ['honda','yamaha','suzuki','kawasaki']\n",
    "print(motorcycles)\n",
    "\n",
    "\n",
    "#now if we do the following the result will be different. It is more like appending\n",
    "motorcycles[0] = 'ducati'\n",
    "\n",
    "print(f\"Modified motorcycles {motorcycles}\")"
   ]
  },
  {
   "cell_type": "markdown",
   "metadata": {},
   "source": [
    "#### Adding Elements to a List"
   ]
  },
  {
   "cell_type": "code",
   "execution_count": 84,
   "metadata": {},
   "outputs": [
    {
     "name": "stdout",
     "output_type": "stream",
     "text": [
      "The previous values are\n",
      "['ducati', 'yamaha', 'suzuki', 'kawasaki', 'honda', 'honda']\n",
      "The new values are\n",
      "['ducati', 'yamaha', 'suzuki', 'kawasaki', 'honda', 'honda', 'honda']\n"
     ]
    }
   ],
   "source": [
    "print(\"The previous values are\\n\" + str(motorcycles))\n",
    "\n",
    "motorcycles.append('honda')\n",
    "\n",
    "print(\"The new values are\\n\" + str (motorcycles))"
   ]
  },
  {
   "cell_type": "code",
   "execution_count": 86,
   "metadata": {},
   "outputs": [
    {
     "data": {
      "text/plain": [
       "['ducati', 'honda', 'yamaha', 'kawasaki']"
      ]
     },
     "execution_count": 86,
     "metadata": {},
     "output_type": "execute_result"
    }
   ],
   "source": [
    "#another approach to add new items. We are starting with an empty list\n",
    "\n",
    "bikes =[]\n",
    "\n",
    "bikes.append('ducati')\n",
    "bikes.append('honda')\n",
    "bikes.append('yamaha')\n",
    "bikes.append('kawasaki')\n",
    "\n",
    "bikes"
   ]
  },
  {
   "cell_type": "markdown",
   "metadata": {},
   "source": [
    "#### Inserting Elements to a List"
   ]
  },
  {
   "cell_type": "code",
   "execution_count": 89,
   "metadata": {},
   "outputs": [
    {
     "data": {
      "text/plain": [
       "['aprilia', 'aprilia', 'ducati', 'honda', 'yamaha', 'kawasaki']"
      ]
     },
     "execution_count": 89,
     "metadata": {},
     "output_type": "execute_result"
    }
   ],
   "source": [
    "bikes.insert(0,'aprilia')\n",
    "bikes"
   ]
  },
  {
   "cell_type": "markdown",
   "metadata": {},
   "source": [
    "#### Removing Items from the List"
   ]
  },
  {
   "cell_type": "code",
   "execution_count": 94,
   "metadata": {},
   "outputs": [
    {
     "name": "stdout",
     "output_type": "stream",
     "text": [
      "['ducati', 'yamaha', 'suzuki', 'kawasaki']\n",
      "['yamaha', 'suzuki']\n"
     ]
    }
   ],
   "source": [
    "#be careful here as the del sits in the beginning which is not alike the other functions that we used previously\n",
    "\n",
    "print(motorcycles)\n",
    "del motorcycles[-1]\n",
    "del motorcycles [0]\n",
    "print(motorcycles)\n"
   ]
  },
  {
   "cell_type": "markdown",
   "metadata": {},
   "source": [
    "#### Removing an Item Using the Pop() Method"
   ]
  },
  {
   "cell_type": "code",
   "execution_count": 106,
   "metadata": {},
   "outputs": [
    {
     "name": "stdout",
     "output_type": "stream",
     "text": [
      "['suzuki', 'yamaha', 'honda', 'kawasaki', 'apache']\n",
      "['suzuki', 'yamaha', 'honda', 'kawasaki']\n",
      "apache\n"
     ]
    },
    {
     "data": {
      "text/plain": [
       "['suzuki', 'yamaha', 'honda', 'kawasaki']"
      ]
     },
     "execution_count": 106,
     "metadata": {},
     "output_type": "execute_result"
    }
   ],
   "source": [
    "# while using the pop() method this functions uses the list as a stack and only removes the last item in the list \n",
    "# so we have to save the output in a different variable to use the popped after values\n",
    "\n",
    "motorcycles = ['suzuki','yamaha','honda','kawasaki','apache']\n",
    "print(motorcycles)\n",
    "popped_motorcycle = motorcycles.pop()\n",
    "\n",
    "print(motorcycles)\n",
    "print (popped_motorcycle)\n",
    "motorcycles"
   ]
  },
  {
   "cell_type": "code",
   "execution_count": 107,
   "metadata": {},
   "outputs": [
    {
     "name": "stdout",
     "output_type": "stream",
     "text": [
      "The last and first bike I owned is kawasaki\n"
     ]
    }
   ],
   "source": [
    "#using pop() method to find out the last item in the list and using it for some purpose\n",
    "\n",
    "print(f\"The last and first bike I owned is {motorcycles.pop()}\")"
   ]
  },
  {
   "cell_type": "markdown",
   "metadata": {},
   "source": [
    "#### Popping Items from any Position in a List"
   ]
  },
  {
   "cell_type": "code",
   "execution_count": 108,
   "metadata": {},
   "outputs": [
    {
     "name": "stdout",
     "output_type": "stream",
     "text": [
      "The first motorcycle I owned was a Suzuki\n"
     ]
    }
   ],
   "source": [
    "first_owned = motorcycles.pop(0)\n",
    "print(f\"The first motorcycle I owned was a {first_owned.title()}\")"
   ]
  },
  {
   "cell_type": "markdown",
   "metadata": {},
   "source": [
    "#### Removing an Item by Value"
   ]
  },
  {
   "cell_type": "code",
   "execution_count": 116,
   "metadata": {},
   "outputs": [
    {
     "name": "stdout",
     "output_type": "stream",
     "text": [
      "['honda', 'yamaha', 'suzuki', 'ducati', 'apache', 'aprilia']\n",
      "The left bikes are \n",
      "['honda', 'yamaha', 'suzuki', 'apache', 'aprilia']\n"
     ]
    }
   ],
   "source": [
    "motorcycles = ['honda','yamaha','suzuki','ducati','apache','aprilia']\n",
    "print(motorcycles)\n",
    "\n",
    "motorcycles.remove('ducati')\n",
    "print(f\"The left bikes are \\n{motorcycles}\")"
   ]
  },
  {
   "cell_type": "code",
   "execution_count": 119,
   "metadata": {},
   "outputs": [
    {
     "name": "stdout",
     "output_type": "stream",
     "text": [
      "['honda', 'yamaha', 'suzuki', 'ducati', 'apache', 'aprilia']\n",
      "['honda', 'yamaha', 'suzuki', 'apache', 'aprilia']\n",
      "\n",
      "A Ducati is too expensive for me.\n"
     ]
    }
   ],
   "source": [
    "motorcycles = ['honda','yamaha','suzuki','ducati','apache','aprilia']\n",
    "print(motorcycles)\n",
    "\n",
    "too_expensive = 'ducati'\n",
    "motorcycles.remove(too_expensive)\n",
    "\n",
    "print(motorcycles)\n",
    "print(f\"\\nA {too_expensive.title()} is too expensive for me.\")\n"
   ]
  },
  {
   "cell_type": "markdown",
   "metadata": {},
   "source": [
    "### Try Yourself ones\n",
    "#### 3-4. Guest List"
   ]
  },
  {
   "cell_type": "code",
   "execution_count": 29,
   "metadata": {},
   "outputs": [
    {
     "name": "stdout",
     "output_type": "stream",
     "text": [
      "Hello nanu, You are invited to my party. Please accept the invitation\n",
      "Hello mama, You are invited to my party. Please accept the invitation\n",
      "Hello khala, You are invited to my party. Please accept the invitation\n",
      "Hello dada, You are invited to my party. Please accept the invitation\n",
      "Hello chacha, You are invited to my party. Please accept the invitation\n",
      "Hello fufu, You are invited to my party. Please accept the invitation\n"
     ]
    }
   ],
   "source": [
    "#Sending invitation to my_guests\n",
    "my_guests = ['nanu', 'mama','khala','dada','chacha','fufu']\n",
    "\n",
    "print(f\"Hello {my_guests[0]}, You are invited to my party. Please accept the invitation\")\n",
    "print(f\"Hello {my_guests[1]}, You are invited to my party. Please accept the invitation\")\n",
    "print(f\"Hello {my_guests[2]}, You are invited to my party. Please accept the invitation\")\n",
    "print(f\"Hello {my_guests[3]}, You are invited to my party. Please accept the invitation\")\n",
    "print(f\"Hello {my_guests[4]}, You are invited to my party. Please accept the invitation\")\n",
    "print(f\"Hello {my_guests[5]}, You are invited to my party. Please accept the invitation\")"
   ]
  },
  {
   "cell_type": "markdown",
   "metadata": {},
   "source": [
    "#### 3-5. Changing Guest List"
   ]
  },
  {
   "cell_type": "code",
   "execution_count": 30,
   "metadata": {},
   "outputs": [
    {
     "name": "stdout",
     "output_type": "stream",
     "text": [
      "khala won't be able to make it\n",
      "chachi will be coming instead\n",
      "Hello nanu, You are invited to my party. Please accept the invitation\n",
      "Hello mama, You are invited to my party. Please accept the invitation\n",
      "Hello chachi, You are invited to my party. Please accept the invitation\n",
      "Hello dada, You are invited to my party. Please accept the invitation\n",
      "Hello chacha, You are invited to my party. Please accept the invitation\n",
      "Hello fufu, You are invited to my party. Please accept the invitation\n"
     ]
    }
   ],
   "source": [
    "# some guest can't make it\n",
    "\n",
    "print(f\"{my_guests[2]} won't be able to make it\")\n",
    "\n",
    "my_guests[2] = 'chachi'\n",
    "print(f\"{my_guests[2]} will be coming instead\")\n",
    "print(f\"Hello {my_guests[0]}, You are invited to my party. Please accept the invitation\")\n",
    "print(f\"Hello {my_guests[1]}, You are invited to my party. Please accept the invitation\")\n",
    "print(f\"Hello {my_guests[2]}, You are invited to my party. Please accept the invitation\")\n",
    "print(f\"Hello {my_guests[3]}, You are invited to my party. Please accept the invitation\")\n",
    "print(f\"Hello {my_guests[4]}, You are invited to my party. Please accept the invitation\")\n",
    "print(f\"Hello {my_guests[5]}, You are invited to my party. Please accept the invitation\")"
   ]
  },
  {
   "cell_type": "markdown",
   "metadata": {},
   "source": [
    "#### 3-6. More Guests"
   ]
  },
  {
   "cell_type": "code",
   "execution_count": 31,
   "metadata": {},
   "outputs": [
    {
     "name": "stdout",
     "output_type": "stream",
     "text": [
      "Hello nanu, You are invited to my party. Please accept the invitation\n",
      "Hello mama, You are invited to my party. Please accept the invitation\n",
      "Hello chachi, You are invited to my party. Please accept the invitation\n",
      "Hello dada, You are invited to my party. Please accept the invitation\n",
      "Hello chacha, You are invited to my party. Please accept the invitation\n",
      "Hello fufu, You are invited to my party. Please accept the invitation\n",
      "I have found a bigger table and the arrangements are going to get larger. \n",
      "So, I am thinking of adding some more people to my party. And mostly I would like to call my friends.\n"
     ]
    }
   ],
   "source": [
    "print(f\"Hello {my_guests[0]}, You are invited to my party. Please accept the invitation\")\n",
    "print(f\"Hello {my_guests[1]}, You are invited to my party. Please accept the invitation\")\n",
    "print(f\"Hello {my_guests[2]}, You are invited to my party. Please accept the invitation\")\n",
    "print(f\"Hello {my_guests[3]}, You are invited to my party. Please accept the invitation\")\n",
    "print(f\"Hello {my_guests[4]}, You are invited to my party. Please accept the invitation\")\n",
    "print(f\"Hello {my_guests[5]}, You are invited to my party. Please accept the invitation\")\n",
    "print(\"I have found a bigger table and the arrangements are going to get larger. \\nSo, I am thinking of adding some more people to my party. And mostly I would like to call my friends.\")"
   ]
  },
  {
   "cell_type": "code",
   "execution_count": 32,
   "metadata": {},
   "outputs": [
    {
     "name": "stdout",
     "output_type": "stream",
     "text": [
      "['Mohan', 'nanu', 'mama', 'chachi', 'dada', 'chacha', 'fufu']\n"
     ]
    }
   ],
   "source": [
    "#inserting a new member to the list of Guests\n",
    "my_guests.insert(0,\"Mohan\")\n",
    "print(my_guests)"
   ]
  },
  {
   "cell_type": "code",
   "execution_count": 33,
   "metadata": {},
   "outputs": [
    {
     "name": "stdout",
     "output_type": "stream",
     "text": [
      "['Mohan', 'nanu', 'mama', 'Zishan', 'chachi', 'dada', 'chacha', 'fufu']\n"
     ]
    }
   ],
   "source": [
    "#inserting a new member to the middle of the list\n",
    "\n",
    "my_guests.insert(3, \"Zishan\")\n",
    "print(my_guests)"
   ]
  },
  {
   "cell_type": "code",
   "execution_count": 34,
   "metadata": {},
   "outputs": [
    {
     "name": "stdout",
     "output_type": "stream",
     "text": [
      "['Mohan', 'nanu', 'mama', 'Zishan', 'chachi', 'dada', 'chacha', 'fufu', 'Ashique']\n"
     ]
    }
   ],
   "source": [
    "#inserting a new member to the end of the list\n",
    "\n",
    "my_guests.append(\"Ashique\")\n",
    "print(my_guests)"
   ]
  },
  {
   "cell_type": "code",
   "execution_count": 148,
   "metadata": {},
   "outputs": [
    {
     "name": "stdout",
     "output_type": "stream",
     "text": [
      "Hello Mohan, You are invited to my party. Please accept the invitation\n",
      "Hello nanu, You are invited to my party. Please accept the invitation\n",
      "Hello mama, You are invited to my party. Please accept the invitation\n",
      "Hello Zishan, You are invited to my party. Please accept the invitation\n",
      "Hello chachi, You are invited to my party. Please accept the invitation\n",
      "Hello dada, You are invited to my party. Please accept the invitation\n",
      "Hello chacha, You are invited to my party. Please accept the invitation\n",
      "Hello fufu, You are invited to my party. Please accept the invitation\n",
      "Hello Ashique, You are invited to my party. Please accept the invitation\n"
     ]
    }
   ],
   "source": [
    "# inviting all the persons in my list to the party\n",
    "print(f\"Hello {my_guests[0]}, You are invited to my party. Please accept the invitation\")\n",
    "print(f\"Hello {my_guests[1]}, You are invited to my party. Please accept the invitation\")\n",
    "print(f\"Hello {my_guests[2]}, You are invited to my party. Please accept the invitation\")\n",
    "print(f\"Hello {my_guests[3]}, You are invited to my party. Please accept the invitation\")\n",
    "print(f\"Hello {my_guests[4]}, You are invited to my party. Please accept the invitation\")\n",
    "print(f\"Hello {my_guests[5]}, You are invited to my party. Please accept the invitation\")\n",
    "print(f\"Hello {my_guests[6]}, You are invited to my party. Please accept the invitation\")\n",
    "print(f\"Hello {my_guests[7]}, You are invited to my party. Please accept the invitation\")\n",
    "print(f\"Hello {my_guests[8]}, You are invited to my party. Please accept the invitation\")"
   ]
  },
  {
   "cell_type": "markdown",
   "metadata": {},
   "source": [
    "#### 3-7 Shrinking Guest List"
   ]
  },
  {
   "cell_type": "code",
   "execution_count": 149,
   "metadata": {},
   "outputs": [
    {
     "name": "stdout",
     "output_type": "stream",
     "text": [
      "I can invite only two people to the dinner\n"
     ]
    }
   ],
   "source": [
    "print(\"I can invite only two people to the dinner\")"
   ]
  },
  {
   "cell_type": "code",
   "execution_count": 157,
   "metadata": {},
   "outputs": [
    {
     "name": "stdout",
     "output_type": "stream",
     "text": [
      "I am sorry mama, I am not able to call you for dinner\n"
     ]
    }
   ],
   "source": [
    "print(f\"I am sorry {my_guests.pop()}, I am not able to call you for dinner\")"
   ]
  },
  {
   "cell_type": "code",
   "execution_count": 159,
   "metadata": {},
   "outputs": [
    {
     "name": "stdout",
     "output_type": "stream",
     "text": [
      "Hi Mohan and nanu, You guys are still invited for dinner\n"
     ]
    }
   ],
   "source": [
    "print(f\"Hi {my_guests[0]} and {my_guests[1]}, You guys are still invited for dinner\")"
   ]
  },
  {
   "cell_type": "code",
   "execution_count": 160,
   "metadata": {},
   "outputs": [
    {
     "name": "stdout",
     "output_type": "stream",
     "text": [
      "[]\n"
     ]
    }
   ],
   "source": [
    "del my_guests[0]\n",
    "del my_guests[0]\n",
    "print(my_guests)"
   ]
  },
  {
   "cell_type": "markdown",
   "metadata": {},
   "source": [
    "## Ordering a List"
   ]
  },
  {
   "cell_type": "markdown",
   "metadata": {},
   "source": [
    "### Sorting a List with the sort() Method"
   ]
  },
  {
   "cell_type": "code",
   "execution_count": 3,
   "metadata": {},
   "outputs": [
    {
     "name": "stdout",
     "output_type": "stream",
     "text": [
      "Sorted Cars ['audi', 'bmw', 'subaru', 'toyota']\n"
     ]
    }
   ],
   "source": [
    "cars = ['bmw','audi','toyota','subaru']\n",
    "cars.sort()\n",
    "print(f\"Sorted Cars {cars}\")"
   ]
  },
  {
   "cell_type": "code",
   "execution_count": 6,
   "metadata": {},
   "outputs": [
    {
     "name": "stdout",
     "output_type": "stream",
     "text": [
      "Cars Sorted in reverse order ['toyota', 'subaru', 'bmw', 'audi']\n",
      "['toyota', 'subaru', 'bmw', 'audi']\n"
     ]
    }
   ],
   "source": [
    "#Reverse Sorting\n",
    "\n",
    "cars.sort(reverse = True)\n",
    "print(f\"Cars Sorted in reverse order {cars}\")\n",
    "\n",
    "print(cars)"
   ]
  },
  {
   "cell_type": "markdown",
   "metadata": {},
   "source": [
    "### Sorting a list Temporarily using the sorted() Function"
   ]
  },
  {
   "cell_type": "code",
   "execution_count": 8,
   "metadata": {
    "scrolled": true
   },
   "outputs": [
    {
     "name": "stdout",
     "output_type": "stream",
     "text": [
      "['audi', 'bmw', 'subaru', 'toyota']\n",
      "['toyota', 'subaru', 'bmw', 'audi']\n"
     ]
    }
   ],
   "source": [
    "#one way to sort the cars but not change their orders but keep their outputs in a separate temporary place\n",
    "print(sorted(cars))\n",
    "print(cars)"
   ]
  },
  {
   "cell_type": "markdown",
   "metadata": {},
   "source": [
    "### Printing a List in Reverse Order"
   ]
  },
  {
   "cell_type": "code",
   "execution_count": 10,
   "metadata": {},
   "outputs": [
    {
     "name": "stdout",
     "output_type": "stream",
     "text": [
      "['toyota', 'subaru', 'bmw', 'audi']\n",
      "Cars in reverse order['audi', 'bmw', 'subaru', 'toyota']\n"
     ]
    }
   ],
   "source": [
    "print(cars)\n",
    "cars.reverse()\n",
    "print (f\"Cars in reverse order{cars}\")"
   ]
  },
  {
   "cell_type": "markdown",
   "metadata": {},
   "source": [
    "### Finding the length of a List"
   ]
  },
  {
   "cell_type": "code",
   "execution_count": 11,
   "metadata": {},
   "outputs": [
    {
     "name": "stdout",
     "output_type": "stream",
     "text": [
      "['audi', 'bmw', 'subaru', 'toyota']\n",
      "Length of the list of cars is 4\n"
     ]
    }
   ],
   "source": [
    "print (cars)\n",
    "print (f\"Length of the list of cars is {len(cars)}\")"
   ]
  },
  {
   "cell_type": "markdown",
   "metadata": {},
   "source": [
    "#### Try it Yourself ones\n",
    "3-8"
   ]
  },
  {
   "cell_type": "code",
   "execution_count": 12,
   "metadata": {},
   "outputs": [
    {
     "name": "stdout",
     "output_type": "stream",
     "text": [
      "['makkah', 'madinh', 'bandarban', 'venice', 'swiss alps']\n"
     ]
    }
   ],
   "source": [
    "places_to_visit = ['makkah','madinh','bandarban','venice','swiss alps']\n",
    "print(places_to_visit)"
   ]
  },
  {
   "cell_type": "code",
   "execution_count": 13,
   "metadata": {},
   "outputs": [
    {
     "name": "stdout",
     "output_type": "stream",
     "text": [
      "['bandarban', 'madinh', 'makkah', 'swiss alps', 'venice']\n"
     ]
    }
   ],
   "source": [
    "#printing the list without changing the actual order of the items in the list\n",
    "print(sorted(places_to_visit))"
   ]
  },
  {
   "cell_type": "code",
   "execution_count": 14,
   "metadata": {},
   "outputs": [
    {
     "name": "stdout",
     "output_type": "stream",
     "text": [
      "['makkah', 'madinh', 'bandarban', 'venice', 'swiss alps']\n"
     ]
    }
   ],
   "source": [
    "#showing that the items in the list are still in their previous order\n",
    "print(places_to_visit)"
   ]
  },
  {
   "cell_type": "code",
   "execution_count": 18,
   "metadata": {},
   "outputs": [
    {
     "name": "stdout",
     "output_type": "stream",
     "text": [
      "['venice', 'swiss alps', 'makkah', 'madinh', 'bandarban']\n"
     ]
    }
   ],
   "source": [
    "#printing the list using sorted in reverse order without changing the original list\n",
    "print(sorted(places_to_visit,reverse = True))"
   ]
  },
  {
   "cell_type": "code",
   "execution_count": 19,
   "metadata": {},
   "outputs": [
    {
     "name": "stdout",
     "output_type": "stream",
     "text": [
      "['makkah', 'madinh', 'bandarban', 'venice', 'swiss alps']\n"
     ]
    }
   ],
   "source": [
    "#printing the list again to show that the actual list is not changed \n",
    "print(places_to_visit)"
   ]
  },
  {
   "cell_type": "code",
   "execution_count": 24,
   "metadata": {},
   "outputs": [
    {
     "name": "stdout",
     "output_type": "stream",
     "text": [
      "['swiss alps', 'venice', 'bandarban', 'madinh', 'makkah']\n"
     ]
    }
   ],
   "source": [
    "# showing that the reverse is done by using the reverse function\n",
    "places_to_visit.reverse()\n",
    "print(places_to_visit)"
   ]
  },
  {
   "cell_type": "code",
   "execution_count": 26,
   "metadata": {},
   "outputs": [
    {
     "name": "stdout",
     "output_type": "stream",
     "text": [
      "['bandarban', 'madinh', 'makkah', 'swiss alps', 'venice']\n"
     ]
    }
   ],
   "source": [
    "# sorting the list and saving it the actual one\n",
    "\n",
    "places_to_visit.sort()\n",
    "print(places_to_visit)"
   ]
  },
  {
   "cell_type": "code",
   "execution_count": 28,
   "metadata": {},
   "outputs": [
    {
     "name": "stdout",
     "output_type": "stream",
     "text": [
      "['venice', 'swiss alps', 'makkah', 'madinh', 'bandarban']\n"
     ]
    }
   ],
   "source": [
    "#sorting in a reverse order and saving it.\n",
    "\n",
    "places_to_visit.sort(reverse = True)\n",
    "print(places_to_visit)"
   ]
  },
  {
   "cell_type": "markdown",
   "metadata": {},
   "source": [
    "3-9. Dinner Guests"
   ]
  },
  {
   "cell_type": "code",
   "execution_count": 36,
   "metadata": {},
   "outputs": [
    {
     "name": "stdout",
     "output_type": "stream",
     "text": [
      " Total Guests that I am inviting to dinner is 9\n"
     ]
    }
   ],
   "source": [
    "message =f\" Total Guests that I am inviting to dinner is {len(my_guests)}\"\n",
    "print(message)"
   ]
  },
  {
   "cell_type": "markdown",
   "metadata": {},
   "source": [
    "3-10. Every Function "
   ]
  },
  {
   "cell_type": "code",
   "execution_count": 58,
   "metadata": {},
   "outputs": [
    {
     "name": "stdout",
     "output_type": "stream",
     "text": [
      "Apache\n",
      "Aprilia\n",
      "TVS\n",
      "One added ['TVS', 'runner', 'ducati', 'aprilia', 'honda']\n",
      "One more added ['TVS', 'runner', 'harley davidson', 'ducati', 'aprilia', 'honda']\n",
      "One deleted ['runner', 'harley davidson', 'ducati', 'aprilia', 'honda']\n",
      "The popped one is honda from the list ['runner', 'harley davidson', 'ducati', 'aprilia']\n",
      "Had to remove an expensive one, now we have ['runner', 'harley davidson', 'aprilia']\n",
      "Had to remove one more expensive one, harley davidson. Now we have ['runner', 'aprilia']\n",
      "The sorted bikes are now ['aprilia', 'runner']\n",
      "the bikes in reverse order is ['runner', 'aprilia']\n",
      "the bikes without changing the order of their list but sorted. so they are ['aprilia', 'runner']\n",
      "Now you can see that they were not actually sorted ['runner', 'aprilia']\n",
      "the number of bikes now we are left with is 2\n"
     ]
    }
   ],
   "source": [
    "#all the functions learned so far are implemented here on a list of bikes\n",
    "\n",
    "bikes = ['apache','runner','ducati','aprilia']\n",
    "print(bikes[0].title())\n",
    "\n",
    "print(bikes[-1].title())\n",
    "bikes[0] = 'TVS'\n",
    "\n",
    "print(bikes[0])\n",
    "\n",
    "\n",
    "bikes.append('honda')\n",
    "print(f\"One added {bikes}\")\n",
    "\n",
    "bikes.insert(2,'harley davidson')\n",
    "print(f\"One more added {bikes}\")\n",
    "\n",
    "del bikes[0]\n",
    "print(f\"One deleted {bikes}\")\n",
    "\n",
    "dropped = bikes.pop()\n",
    "print(f\"The popped one is {dropped} from the list {bikes}\")\n",
    "\n",
    "bikes.remove('ducati')\n",
    "print(f\"Had to remove an expensive one, now we have {bikes}\")\n",
    "\n",
    "expensive = 'harley davidson'\n",
    "bikes.remove(expensive)\n",
    "print(f\"Had to remove one more expensive one, {expensive}. Now we have {bikes}\")\n",
    "\n",
    "bikes.sort()\n",
    "print(f\"The sorted bikes are now {bikes}\")\n",
    "\n",
    "bikes.reverse()\n",
    "print(f\"the bikes in reverse order is {bikes}\")\n",
    "\n",
    "print(f\"the bikes without changing the order of their list but sorted. so they are {sorted(bikes)}\")\n",
    "print(f\"Now you can see that they were not actually sorted {bikes}\")\n",
    "\n",
    "print(f\"the number of bikes now we are left with is {len(bikes)}\")\n",
    "\n",
    "\n",
    "#we now have used all the functions that we learned from this chapter"
   ]
  },
  {
   "cell_type": "markdown",
   "metadata": {},
   "source": [
    "### Trying to Get an Index Error"
   ]
  },
  {
   "cell_type": "code",
   "execution_count": 59,
   "metadata": {},
   "outputs": [
    {
     "ename": "IndexError",
     "evalue": "list index out of range",
     "output_type": "error",
     "traceback": [
      "\u001b[1;31m---------------------------------------------------------------------------\u001b[0m",
      "\u001b[1;31mIndexError\u001b[0m                                Traceback (most recent call last)",
      "\u001b[1;32m<ipython-input-59-99543556e840>\u001b[0m in \u001b[0;36m<module>\u001b[1;34m\u001b[0m\n\u001b[1;32m----> 1\u001b[1;33m \u001b[0mprint\u001b[0m\u001b[1;33m(\u001b[0m\u001b[0mbikes\u001b[0m\u001b[1;33m[\u001b[0m\u001b[1;36m2\u001b[0m\u001b[1;33m]\u001b[0m\u001b[1;33m)\u001b[0m\u001b[1;33m\u001b[0m\u001b[1;33m\u001b[0m\u001b[0m\n\u001b[0m",
      "\u001b[1;31mIndexError\u001b[0m: list index out of range"
     ]
    }
   ],
   "source": [
    "print(bikes[2])\n",
    "\n",
    "#our motive here is to get an error"
   ]
  },
  {
   "cell_type": "markdown",
   "metadata": {},
   "source": [
    "# Chapter - 4: Working with Lists"
   ]
  },
  {
   "cell_type": "code",
   "execution_count": null,
   "metadata": {},
   "outputs": [],
   "source": []
  },
  {
   "cell_type": "code",
   "execution_count": null,
   "metadata": {},
   "outputs": [],
   "source": []
  }
 ],
 "metadata": {
  "kernelspec": {
   "display_name": "Python 3",
   "language": "python",
   "name": "python3"
  },
  "language_info": {
   "codemirror_mode": {
    "name": "ipython",
    "version": 3
   },
   "file_extension": ".py",
   "mimetype": "text/x-python",
   "name": "python",
   "nbconvert_exporter": "python",
   "pygments_lexer": "ipython3",
   "version": "3.7.9"
  }
 },
 "nbformat": 4,
 "nbformat_minor": 4
}
