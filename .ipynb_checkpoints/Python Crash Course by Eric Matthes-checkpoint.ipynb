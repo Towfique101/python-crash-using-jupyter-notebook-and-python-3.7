{
 "cells": [
  {
   "cell_type": "markdown",
   "metadata": {},
   "source": [
    "# String Learning"
   ]
  },
  {
   "cell_type": "code",
   "execution_count": 6,
   "metadata": {},
   "outputs": [
    {
     "name": "stdout",
     "output_type": "stream",
     "text": [
      "ada lovelace\n",
      "Hello, Ada Lovelace\n",
      "Hello, Ada Lovelace my name is khan\n"
     ]
    }
   ],
   "source": [
    "\n",
    "\n",
    "message = \"Hello python, and then python said, 'how are yoo?'\"\n",
    "\n",
    "# print (\" I am Fione\" + message)\n",
    "\n",
    "name = \"ada lovelace\"\n",
    " \n",
    "#print(name.title())\n",
    "\n",
    "#print(name.upper())\n",
    "\n",
    "#print(name.lower())\n",
    "\n",
    "first_name = \"ada\"\n",
    "last_name = \"lovelace\"\n",
    "\n",
    "full_name = f\"{first_name} {last_name}\"\n",
    "\n",
    "print(full_name)\n",
    "\n",
    "#helpful for concatenating with variables in strings\n",
    "\n",
    "print(f\"Hello, {first_name} {last_name}\".title())\n",
    "\n",
    "message = f\"Hello, {first_name} {last_name}\".title()\n",
    "\n",
    "print (message + \" my name is khan\") \n"
   ]
  },
  {
   "cell_type": "code",
   "execution_count": 5,
   "metadata": {},
   "outputs": [
    {
     "name": "stdout",
     "output_type": "stream",
     "text": [
      "My \n",
      "name is \t Shakil\n"
     ]
    }
   ],
   "source": [
    "favorite_language = 0\n",
    "message = \"My \\nname is \\t Shakil\"\n",
    "print(message)\n"
   ]
  },
  {
   "cell_type": "markdown",
   "metadata": {},
   "source": [
    "### Stripping white space ( this is not working as supposed)\n"
   ]
  },
  {
   "cell_type": "code",
   "execution_count": 28,
   "metadata": {},
   "outputs": [
    {
     "name": "stdout",
     "output_type": "stream",
     "text": [
      "  Python  is     Something      \n",
      "  Python  is     Something      \n"
     ]
    }
   ],
   "source": [
    "favorite_language = '  Python  is     Something      ' \n",
    "print (favorite_language)\n",
    "fav_lan = favorite_language.strip() + ' This is something'\n",
    "# the whitespaces are removed temporarily, so be careful to insert the values to a new variable\n",
    "fav_lan = favorite_language.strip(\"T\")\n",
    "#favorite_language = favorite_language.strip(' ') + ' This is something'\n",
    "#favorite_language\n",
    "print(fav_lan)\n",
    "#some more functions are there namely lstrip() and rstrip() that do the stripping left and right relatively"
   ]
  },
  {
   "cell_type": "markdown",
   "metadata": {},
   "source": [
    "#### Practice\n"
   ]
  },
  {
   "cell_type": "code",
   "execution_count": 37,
   "metadata": {},
   "outputs": [
    {
     "name": "stdout",
     "output_type": "stream",
     "text": [
      "Hello Shakil, would you like to learn some Python today?\n",
      "towfique hasan TOWFIQUE HASAN Towfique Hasan\n",
      "Albert Einstein once said,'A person who never made a mistake never tried anything new'.\n"
     ]
    }
   ],
   "source": [
    "message = \"Hello Shakil, would you like to learn some Python today?\"\n",
    "print (message)\n",
    "Name = \"Towfique Hasan\"\n",
    "print(Name.lower() +' '+ Name.upper()+' '+Name.title())\n",
    "\n",
    "Quoted_by = \"Albert Einstein\"\n",
    "Quote = \"A person who never made a mistake never tried anything new\"\n",
    "print (Quoted_by +\" once said,\" +\"'\" +Quote+\"'\"+'.')"
   ]
  },
  {
   "cell_type": "markdown",
   "metadata": {},
   "source": [
    "# Numbers"
   ]
  },
  {
   "cell_type": "markdown",
   "metadata": {},
   "source": [
    "## Integer"
   ]
  },
  {
   "cell_type": "code",
   "execution_count": 40,
   "metadata": {},
   "outputs": [
    {
     "data": {
      "text/plain": [
       "9"
      ]
     },
     "execution_count": 40,
     "metadata": {},
     "output_type": "execute_result"
    }
   ],
   "source": [
    "#putting two times multiplication brings the output of square actually\n",
    "3**2"
   ]
  },
  {
   "cell_type": "code",
   "execution_count": 44,
   "metadata": {},
   "outputs": [
    {
     "ename": "SyntaxError",
     "evalue": "invalid syntax (<ipython-input-44-d72d45b0d0d3>, line 1)",
     "output_type": "error",
     "traceback": [
      "\u001b[1;36m  File \u001b[1;32m\"<ipython-input-44-d72d45b0d0d3>\"\u001b[1;36m, line \u001b[1;32m1\u001b[0m\n\u001b[1;33m    3///2\u001b[0m\n\u001b[1;37m       ^\u001b[0m\n\u001b[1;31mSyntaxError\u001b[0m\u001b[1;31m:\u001b[0m invalid syntax\n"
     ]
    }
   ],
   "source": [
    "3/2"
   ]
  }
 ],
 "metadata": {
  "kernelspec": {
   "display_name": "Python 3",
   "language": "python",
   "name": "python3"
  },
  "language_info": {
   "codemirror_mode": {
    "name": "ipython",
    "version": 3
   },
   "file_extension": ".py",
   "mimetype": "text/x-python",
   "name": "python",
   "nbconvert_exporter": "python",
   "pygments_lexer": "ipython3",
   "version": "3.7.9"
  }
 },
 "nbformat": 4,
 "nbformat_minor": 4
}
